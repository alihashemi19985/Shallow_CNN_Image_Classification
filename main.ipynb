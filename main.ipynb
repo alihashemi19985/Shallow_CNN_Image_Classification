{
 "cells": [
  {
   "cell_type": "code",
   "execution_count": 23,
   "metadata": {},
   "outputs": [],
   "source": [
    "import pandas as pd \n",
    "import numpy as np\n",
    "import torch\n",
    "import matplotlib.pyplot as plt\n",
    "import torch.nn.functional as F\n",
    "import torch.nn.init as init\n",
    "import torch.nn as nn\n",
    "from tqdm import tqdm\n",
    "from torchvision import utils,datasets\n",
    "import torchvision\n",
    "import torchvision.transforms as transforms\n",
    "from torch.utils.data import random_split, Dataset, DataLoader\n",
    "from torch.optim.lr_scheduler import ExponentialLR, CosineAnnealingWarmRestarts\n",
    "from torchsummary import summary\n",
    "from log_chk import Checkpoint,logger\n",
    "from model import SCNNB\n",
    "import os "
   ]
  },
  {
   "cell_type": "code",
   "execution_count": 2,
   "metadata": {},
   "outputs": [
    {
     "name": "stdout",
     "output_type": "stream",
     "text": [
      "Size of the training set: 50000\n",
      "Size of the validation set: 10000\n",
      "Size of the test set: 10000\n"
     ]
    }
   ],
   "source": [
    "import torchvision\n",
    "import torchvision.transforms as transforms\n",
    "## Load the datasets\n",
    "\n",
    "original_set = torchvision.datasets.MNIST(root=\"./\", download=True, \n",
    "                                              train=True,\n",
    "                                              transform=transforms.Compose([transforms.ToTensor(),transforms.Normalize(0,1)]))\n",
    "\n",
    "test_set = torchvision.datasets.MNIST(root=\"./\", download=True, \n",
    "                                              train=False,\n",
    "                                              transform=transforms.Compose([transforms.ToTensor(), transforms.Normalize(0,1)]))\n",
    "\n",
    "\n",
    "\n",
    "## Train-val split\n",
    "train_set, val_set = random_split(original_set, [50000, 10000])\n",
    "\n",
    "print(f\"Size of the training set: {len(train_set)}\")\n",
    "print(f\"Size of the validation set: {len(val_set)}\")\n",
    "print(f\"Size of the test set: {len(test_set)}\")\n",
    "\n",
    "## Create the data loaders\n",
    "train_loader = DataLoader(train_set, batch_size=256, shuffle=True)\n",
    "val_loader = DataLoader(val_set, batch_size=256, shuffle=True)\n",
    "test_loader = DataLoader(test_set, batch_size=256, shuffle=True)  "
   ]
  },
  {
   "cell_type": "code",
   "execution_count": 3,
   "metadata": {},
   "outputs": [
    {
     "name": "stdout",
     "output_type": "stream",
     "text": [
      "Downloading http://fashion-mnist.s3-website.eu-central-1.amazonaws.com/train-images-idx3-ubyte.gz\n",
      "Downloading http://fashion-mnist.s3-website.eu-central-1.amazonaws.com/train-images-idx3-ubyte.gz to ./FashionMNIST\\raw\\train-images-idx3-ubyte.gz\n"
     ]
    },
    {
     "name": "stderr",
     "output_type": "stream",
     "text": [
      "  0%|          | 0/26421880 [00:00<?, ?it/s]"
     ]
    }
   ],
   "source": [
    "original_set = torchvision.datasets.FashionMNIST(root=\"./\", download=True, \n",
    "                                              train=True,\n",
    "                                              transform=transforms.Compose([transforms.ToTensor(),transforms.Normalize(0,1)]))\n",
    "\n",
    "test_set = torchvision.datasets.FashionMNIST(root=\"./\", download=True, \n",
    "                                              train=False,\n",
    "                                              transform=transforms.Compose([transforms.ToTensor(), transforms.Normalize(0,1)]))\n",
    "train_set, val_set = random_split(original_set, [50000, 10000])\n",
    "\n",
    "print(f\"Size of the training set: {len(train_set)}\")\n",
    "print(f\"Size of the validation set: {len(val_set)}\")\n",
    "print(f\"Size of the test set: {len(test_set)}\")\n",
    "\n",
    "## Create the data loaders\n",
    "train_loader = DataLoader(train_set, batch_size=256, shuffle=True)\n",
    "val_loader = DataLoader(val_set, batch_size=256, shuffle=True)\n",
    "test_loader = DataLoader(test_set, batch_size=256, shuffle=True) \n"
   ]
  },
  {
   "cell_type": "code",
   "execution_count": 18,
   "metadata": {},
   "outputs": [],
   "source": [
    "def fit(clf,\n",
    "        train_loader,\n",
    "        optimizer,\n",
    "        criterian,\n",
    "        scheduler):\n",
    "\n",
    "    clf.train()\n",
    "    training_loss_running = 0\n",
    "    training_correct_running = 0\n",
    "    total = 0\n",
    "    counter = 0\n",
    "    for i,data in enumerate(train_loader):\n",
    "        counter += 1\n",
    "        data,label = data[0],data[1]\n",
    "        #data = data.reshape(-1,28*28)\n",
    "        total += label.size(0)\n",
    "        optimizer.zero_grad()\n",
    "        out = clf(data) \n",
    "        loss = criterian(out,label)\n",
    "        training_loss_running += loss.item()\n",
    "        _,pred = torch.max(out.data,1)\n",
    "        training_correct_running += (pred == label).sum().item()\n",
    "        loss.backward()\n",
    "        optimizer.step()\n",
    "    scheduler.step() \n",
    "    train_loss = training_loss_running / counter\n",
    "    train_accuracy = 100. * training_correct_running / total\n",
    "    return train_loss, train_accuracy     \n"
   ]
  },
  {
   "cell_type": "code",
   "execution_count": 19,
   "metadata": {},
   "outputs": [],
   "source": [
    "def validation (clf,validation_loader,criterian,epoch):\n",
    "    clf.eval()\n",
    "    valid_loss_running = 0\n",
    "    valid_acc_running = 0\n",
    "    total = 0\n",
    "    counter = 0\n",
    "    for i,data in enumerate(validation_loader):\n",
    "        counter += 1\n",
    "        data,label = data[0],data[1]\n",
    "        #data = data.reshape(-1,28*28)\n",
    "        total += label.size(0)\n",
    "        out = clf(data)\n",
    "        loss = criterian(out,label)\n",
    "        valid_loss_running += loss.item()\n",
    "        _,pred = torch.max(out.data,1)\n",
    "        valid_acc_running += (pred == label).sum().item()\n",
    "\n",
    "    valid_loss = valid_loss_running / counter\n",
    "    valid_acc = 100. * valid_acc_running / total  \n",
    "    chk.save(valid_acc,'chk',epoch,clf)\n",
    "      \n",
    "\n",
    "    return valid_loss,valid_acc\n",
    "\n",
    "\n",
    "        \n"
   ]
  },
  {
   "cell_type": "code",
   "execution_count": 20,
   "metadata": {},
   "outputs": [],
   "source": [
    "def train (hyparam,train_loader,val_loader):\n",
    "\n",
    "    clf = SCNNB()\n",
    "    \n",
    "    #optimizer = torch.optim.Adam(clf.parameters(), lr =hyparam['lr'])\n",
    "    optimizer = torch.optim.SGD(clf.parameters(), lr=hyparam['lr'],momentum=0.9, weight_decay=0.001)\n",
    "    criterian = nn.CrossEntropyLoss()\n",
    "    scheduler = CosineAnnealingWarmRestarts(optimizer, T_0=50, T_mult=1)\n",
    "\n",
    "    train_loss =[]\n",
    "    train_acc =[]\n",
    "    val_loss =[]\n",
    "    val_acc = []\n",
    "    \n",
    "    for epoch in range(hyparam['epoch']):\n",
    "        print(f\"Epoch {epoch+1} of {hyparam['epoch']}\")\n",
    "        training_loss,training_acc = fit(clf,train_loader,optimizer,criterian,scheduler)\n",
    "        validation_loss,validation_acc = validation(clf,val_loader,criterian,epoch)\n",
    "\n",
    "        train_loss.append(training_loss)\n",
    "        train_acc.append(training_acc)\n",
    "\n",
    "        val_loss.append(validation_loss)\n",
    "        val_acc.append(validation_acc)\n",
    "\n",
    "        \n",
    "\n",
    "        logger.info(f\" Epoch: {epoch + 1}, Train Loss: {training_loss:.4f}, Train Acc: {training_acc:.2f},\\\n",
    "         Val Loss: {validation_loss:.4f}, Val Acc: {validation_acc:.2f}\")\n",
    "       \n",
    "        print(f\"Train Loss: {training_loss:.4f}, Train Acc: {training_acc:.2f},\\\n",
    "         Val Loss: {validation_loss:.4f}, Val Acc: {validation_acc:.2f}\")\n",
    "\n",
    "\n",
    "\n",
    "      \n",
    "    return clf,train_loss,train_acc,val_loss,val_acc\n",
    "    "
   ]
  },
  {
   "cell_type": "code",
   "execution_count": 21,
   "metadata": {},
   "outputs": [],
   "source": [
    "chk = Checkpoint()"
   ]
  },
  {
   "cell_type": "code",
   "execution_count": 24,
   "metadata": {},
   "outputs": [
    {
     "name": "stdout",
     "output_type": "stream",
     "text": [
      "Epoch 1 of 50\n",
      "Train Loss: 1.6593, Train Acc: 81.07,         Val Loss: 1.5754, Val Acc: 88.56\n",
      "Epoch 2 of 50\n",
      "Train Loss: 1.5199, Train Acc: 94.62,         Val Loss: 1.4900, Val Acc: 97.55\n",
      "Epoch 3 of 50\n"
     ]
    },
    {
     "ename": "KeyboardInterrupt",
     "evalue": "",
     "output_type": "error",
     "traceback": [
      "\u001b[1;31m---------------------------------------------------------------------------\u001b[0m",
      "\u001b[1;31mKeyboardInterrupt\u001b[0m                         Traceback (most recent call last)",
      "\u001b[1;32m~\\AppData\\Local\\Temp\\ipykernel_18856\\2812200509.py\u001b[0m in \u001b[0;36m<module>\u001b[1;34m\u001b[0m\n\u001b[0;32m      1\u001b[0m \u001b[0mhparams\u001b[0m \u001b[1;33m=\u001b[0m \u001b[1;33m{\u001b[0m\u001b[1;34m'batch_size'\u001b[0m\u001b[1;33m:\u001b[0m \u001b[1;36m256\u001b[0m\u001b[1;33m,\u001b[0m \u001b[1;34m'lr'\u001b[0m\u001b[1;33m:\u001b[0m \u001b[1;36m0.6e-1\u001b[0m\u001b[1;33m,\u001b[0m \u001b[1;34m'epoch'\u001b[0m\u001b[1;33m:\u001b[0m \u001b[1;36m50\u001b[0m\u001b[1;33m}\u001b[0m \u001b[1;31m#6e-4\u001b[0m\u001b[1;33m\u001b[0m\u001b[1;33m\u001b[0m\u001b[0m\n\u001b[1;32m----> 2\u001b[1;33m \u001b[0mclf\u001b[0m\u001b[1;33m,\u001b[0m\u001b[0mtrain_loss\u001b[0m\u001b[1;33m,\u001b[0m\u001b[0mtrain_acc\u001b[0m\u001b[1;33m,\u001b[0m\u001b[0mval_loss\u001b[0m\u001b[1;33m,\u001b[0m\u001b[0mval_acc\u001b[0m \u001b[1;33m=\u001b[0m \u001b[0mtrain\u001b[0m\u001b[1;33m(\u001b[0m\u001b[0mhparams\u001b[0m\u001b[1;33m,\u001b[0m\u001b[0mtrain_loader\u001b[0m\u001b[1;33m,\u001b[0m\u001b[0mval_loader\u001b[0m\u001b[1;33m)\u001b[0m\u001b[1;33m\u001b[0m\u001b[1;33m\u001b[0m\u001b[0m\n\u001b[0m",
      "\u001b[1;32m~\\AppData\\Local\\Temp\\ipykernel_18856\\2853600468.py\u001b[0m in \u001b[0;36mtrain\u001b[1;34m(hyparam, train_loader, val_loader)\u001b[0m\n\u001b[0;32m     15\u001b[0m     \u001b[1;32mfor\u001b[0m \u001b[0mepoch\u001b[0m \u001b[1;32min\u001b[0m \u001b[0mrange\u001b[0m\u001b[1;33m(\u001b[0m\u001b[0mhyparam\u001b[0m\u001b[1;33m[\u001b[0m\u001b[1;34m'epoch'\u001b[0m\u001b[1;33m]\u001b[0m\u001b[1;33m)\u001b[0m\u001b[1;33m:\u001b[0m\u001b[1;33m\u001b[0m\u001b[1;33m\u001b[0m\u001b[0m\n\u001b[0;32m     16\u001b[0m         \u001b[0mprint\u001b[0m\u001b[1;33m(\u001b[0m\u001b[1;34mf\"Epoch {epoch+1} of {hyparam['epoch']}\"\u001b[0m\u001b[1;33m)\u001b[0m\u001b[1;33m\u001b[0m\u001b[1;33m\u001b[0m\u001b[0m\n\u001b[1;32m---> 17\u001b[1;33m         \u001b[0mtraining_loss\u001b[0m\u001b[1;33m,\u001b[0m\u001b[0mtraining_acc\u001b[0m \u001b[1;33m=\u001b[0m \u001b[0mfit\u001b[0m\u001b[1;33m(\u001b[0m\u001b[0mclf\u001b[0m\u001b[1;33m,\u001b[0m\u001b[0mtrain_loader\u001b[0m\u001b[1;33m,\u001b[0m\u001b[0moptimizer\u001b[0m\u001b[1;33m,\u001b[0m\u001b[0mcriterian\u001b[0m\u001b[1;33m,\u001b[0m\u001b[0mscheduler\u001b[0m\u001b[1;33m)\u001b[0m\u001b[1;33m\u001b[0m\u001b[1;33m\u001b[0m\u001b[0m\n\u001b[0m\u001b[0;32m     18\u001b[0m         \u001b[0mvalidation_loss\u001b[0m\u001b[1;33m,\u001b[0m\u001b[0mvalidation_acc\u001b[0m \u001b[1;33m=\u001b[0m \u001b[0mvalidation\u001b[0m\u001b[1;33m(\u001b[0m\u001b[0mclf\u001b[0m\u001b[1;33m,\u001b[0m\u001b[0mval_loader\u001b[0m\u001b[1;33m,\u001b[0m\u001b[0mcriterian\u001b[0m\u001b[1;33m,\u001b[0m\u001b[0mepoch\u001b[0m\u001b[1;33m)\u001b[0m\u001b[1;33m\u001b[0m\u001b[1;33m\u001b[0m\u001b[0m\n\u001b[0;32m     19\u001b[0m \u001b[1;33m\u001b[0m\u001b[0m\n",
      "\u001b[1;32m~\\AppData\\Local\\Temp\\ipykernel_18856\\3148540563.py\u001b[0m in \u001b[0;36mfit\u001b[1;34m(clf, train_loader, optimizer, criterian, scheduler)\u001b[0m\n\u001b[0;32m     21\u001b[0m         \u001b[0m_\u001b[0m\u001b[1;33m,\u001b[0m\u001b[0mpred\u001b[0m \u001b[1;33m=\u001b[0m \u001b[0mtorch\u001b[0m\u001b[1;33m.\u001b[0m\u001b[0mmax\u001b[0m\u001b[1;33m(\u001b[0m\u001b[0mout\u001b[0m\u001b[1;33m.\u001b[0m\u001b[0mdata\u001b[0m\u001b[1;33m,\u001b[0m\u001b[1;36m1\u001b[0m\u001b[1;33m)\u001b[0m\u001b[1;33m\u001b[0m\u001b[1;33m\u001b[0m\u001b[0m\n\u001b[0;32m     22\u001b[0m         \u001b[0mtraining_correct_running\u001b[0m \u001b[1;33m+=\u001b[0m \u001b[1;33m(\u001b[0m\u001b[0mpred\u001b[0m \u001b[1;33m==\u001b[0m \u001b[0mlabel\u001b[0m\u001b[1;33m)\u001b[0m\u001b[1;33m.\u001b[0m\u001b[0msum\u001b[0m\u001b[1;33m(\u001b[0m\u001b[1;33m)\u001b[0m\u001b[1;33m.\u001b[0m\u001b[0mitem\u001b[0m\u001b[1;33m(\u001b[0m\u001b[1;33m)\u001b[0m\u001b[1;33m\u001b[0m\u001b[1;33m\u001b[0m\u001b[0m\n\u001b[1;32m---> 23\u001b[1;33m         \u001b[0mloss\u001b[0m\u001b[1;33m.\u001b[0m\u001b[0mbackward\u001b[0m\u001b[1;33m(\u001b[0m\u001b[1;33m)\u001b[0m\u001b[1;33m\u001b[0m\u001b[1;33m\u001b[0m\u001b[0m\n\u001b[0m\u001b[0;32m     24\u001b[0m         \u001b[0moptimizer\u001b[0m\u001b[1;33m.\u001b[0m\u001b[0mstep\u001b[0m\u001b[1;33m(\u001b[0m\u001b[1;33m)\u001b[0m\u001b[1;33m\u001b[0m\u001b[1;33m\u001b[0m\u001b[0m\n\u001b[0;32m     25\u001b[0m     \u001b[0mscheduler\u001b[0m\u001b[1;33m.\u001b[0m\u001b[0mstep\u001b[0m\u001b[1;33m(\u001b[0m\u001b[1;33m)\u001b[0m\u001b[1;33m\u001b[0m\u001b[1;33m\u001b[0m\u001b[0m\n",
      "\u001b[1;32mc:\\Users\\Ali\\anaconda3\\lib\\site-packages\\torch\\_tensor.py\u001b[0m in \u001b[0;36mbackward\u001b[1;34m(self, gradient, retain_graph, create_graph, inputs)\u001b[0m\n\u001b[0;32m    485\u001b[0m                 \u001b[0minputs\u001b[0m\u001b[1;33m=\u001b[0m\u001b[0minputs\u001b[0m\u001b[1;33m,\u001b[0m\u001b[1;33m\u001b[0m\u001b[1;33m\u001b[0m\u001b[0m\n\u001b[0;32m    486\u001b[0m             )\n\u001b[1;32m--> 487\u001b[1;33m         torch.autograd.backward(\n\u001b[0m\u001b[0;32m    488\u001b[0m             \u001b[0mself\u001b[0m\u001b[1;33m,\u001b[0m \u001b[0mgradient\u001b[0m\u001b[1;33m,\u001b[0m \u001b[0mretain_graph\u001b[0m\u001b[1;33m,\u001b[0m \u001b[0mcreate_graph\u001b[0m\u001b[1;33m,\u001b[0m \u001b[0minputs\u001b[0m\u001b[1;33m=\u001b[0m\u001b[0minputs\u001b[0m\u001b[1;33m\u001b[0m\u001b[1;33m\u001b[0m\u001b[0m\n\u001b[0;32m    489\u001b[0m         )\n",
      "\u001b[1;32mc:\\Users\\Ali\\anaconda3\\lib\\site-packages\\torch\\autograd\\__init__.py\u001b[0m in \u001b[0;36mbackward\u001b[1;34m(tensors, grad_tensors, retain_graph, create_graph, grad_variables, inputs)\u001b[0m\n\u001b[0;32m    198\u001b[0m     \u001b[1;31m# some Python versions print out the first line of a multi-line function\u001b[0m\u001b[1;33m\u001b[0m\u001b[1;33m\u001b[0m\u001b[0m\n\u001b[0;32m    199\u001b[0m     \u001b[1;31m# calls in the traceback and some print out the last line\u001b[0m\u001b[1;33m\u001b[0m\u001b[1;33m\u001b[0m\u001b[0m\n\u001b[1;32m--> 200\u001b[1;33m     Variable._execution_engine.run_backward(  # Calls into the C++ engine to run the backward pass\n\u001b[0m\u001b[0;32m    201\u001b[0m         \u001b[0mtensors\u001b[0m\u001b[1;33m,\u001b[0m \u001b[0mgrad_tensors_\u001b[0m\u001b[1;33m,\u001b[0m \u001b[0mretain_graph\u001b[0m\u001b[1;33m,\u001b[0m \u001b[0mcreate_graph\u001b[0m\u001b[1;33m,\u001b[0m \u001b[0minputs\u001b[0m\u001b[1;33m,\u001b[0m\u001b[1;33m\u001b[0m\u001b[1;33m\u001b[0m\u001b[0m\n\u001b[0;32m    202\u001b[0m         allow_unreachable=True, accumulate_grad=True)  # Calls into the C++ engine to run the backward pass\n",
      "\u001b[1;31mKeyboardInterrupt\u001b[0m: "
     ]
    }
   ],
   "source": [
    "hparams = {'batch_size': 256, 'lr': 0.6e-1, 'epoch': 50} #6e-4 \n",
    "clf,train_loss,train_acc,val_loss,val_acc = train(hparams,train_loader,val_loader)  "
   ]
  }
 ],
 "metadata": {
  "kernelspec": {
   "display_name": "base",
   "language": "python",
   "name": "python3"
  },
  "language_info": {
   "codemirror_mode": {
    "name": "ipython",
    "version": 3
   },
   "file_extension": ".py",
   "mimetype": "text/x-python",
   "name": "python",
   "nbconvert_exporter": "python",
   "pygments_lexer": "ipython3",
   "version": "3.9.13"
  }
 },
 "nbformat": 4,
 "nbformat_minor": 2
}
